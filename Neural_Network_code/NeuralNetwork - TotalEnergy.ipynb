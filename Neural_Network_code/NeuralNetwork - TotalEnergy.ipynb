{
 "cells": [
  {
   "cell_type": "markdown",
   "metadata": {},
   "source": [
    "# Total Energy Prediction - Neural Network\n",
    "\n",
    "## Introduction\n",
    "\n",
    "In this notebook we will machine-learn the relationship between a molecular descriptor and total energy using neural networks.\n",
    "\n",
    "The energy of ~134k molecules was calculated at the CCSD level."
   ]
  },
  {
   "cell_type": "markdown",
   "metadata": {},
   "source": [
    "## Setup"
   ]
  },
  {
   "cell_type": "code",
   "execution_count": 21,
   "metadata": {},
   "outputs": [],
   "source": [
    "# --- INITIAL DEFINITIONS ---\n",
    "from sklearn.neural_network import MLPRegressor\n",
    "import numpy, math, random\n",
    "import matplotlib.pyplot as plt\n",
    "from scipy.sparse import load_npz\n",
    "from mpl_toolkits.mplot3d import Axes3D"
   ]
  },
  {
   "cell_type": "markdown",
   "metadata": {},
   "source": [
    "Let's pick a descriptor. Allowed types are:\n",
    "\n",
    "1. cnt: atom counts\n",
    "2. bob: bag of bonds\n",
    "4. soap: smooth overlap of atomic positions; choose from:\n",
    "    1. soap.sum - all atoms summed together\n",
    "    4. soap.mean - mean of all atom SOAP\n",
    "    4. soap.centre - computed at the central point\n",
    "5. mbtr: many-body tensor representation\n",
    "6. cm: Coulomb matrix"
   ]
  },
  {
   "cell_type": "code",
   "execution_count": 26,
   "metadata": {},
   "outputs": [
    {
     "name": "stdout",
     "output_type": "stream",
     "text": [
      "\n",
      "Descriptor details\n",
      "Bag of Bonds\n",
      "\n",
      "Each molecule is described by 15+5 integer numbers. The first 15 are the bound counts for each pair-type.\n",
      "The last 5 are the neighbour count of each type [H,C,N,O,F].\n",
      " \n"
     ]
    }
   ],
   "source": [
    "# TYPE is the descriptor type  you can change it\n",
    "TYPE = \"bob\"\n",
    "\n",
    "#show descriptor details\n",
    "print(\"\\nDescriptor details\")\n",
    "desc = open(\"./data/descriptor.\"+TYPE.split('.')[0]+\".txt\",\"r\").readlines()\n",
    "for l in desc: print(l.strip())\n",
    "print(\" \")"
   ]
  },
  {
   "cell_type": "markdown",
   "metadata": {},
   "source": [
    "and load the databases with the descriptors (input) and the correct charge densities (output). Databases are quite big, so we can decide how many samples to use for training."
   ]
  },
  {
   "cell_type": "code",
   "execution_count": 68,
   "metadata": {},
   "outputs": [
    {
     "name": "stdout",
     "output_type": "stream",
     "text": [
      "(133885, 20)\n",
      "training samples:   9000\n",
      "validation samples: 1000\n",
      "number of features: 10\n",
      "\n",
      "Descriptors for the first 5 molecules:\n",
      "[[-1.26902114e-01  1.56879309e+00  7.64194985e-01  1.62281431e-01\n",
      "   1.15478810e-02  8.56481274e-02 -6.14817054e-01  6.79731938e-01\n",
      "  -5.46860343e-01 -1.00305033e-01]\n",
      " [ 9.80184269e-01  1.86476201e+00  4.45311088e-01  1.24957546e-02\n",
      "   4.75056837e-02  7.35365965e-01  1.38458648e+00  8.73574575e-01\n",
      "   1.13871947e+00  1.32874677e+00]\n",
      " [ 2.76639808e+00  3.50886973e+00 -1.40233279e+01 -1.95956587e-01\n",
      "   4.57037552e+00 -2.66229056e+00 -3.71314240e+00  2.17771459e+00\n",
      "  -1.50127228e-02 -7.07179672e-01]\n",
      " [ 1.73482504e-01  4.23390600e-01  1.72673140e-01 -5.92315685e-01\n",
      "  -7.11117559e-01  1.21930887e+00 -1.30615222e+00 -7.23105108e-01\n",
      "  -3.45255210e-01  4.45277322e-01]\n",
      " [ 3.00973651e-01 -2.52701653e-01  4.29476471e-01 -2.20362482e-02\n",
      "   1.11492786e+00 -9.72390519e-01 -2.80428314e-01 -1.61092533e+00\n",
      "  -6.16005608e-02 -1.01473627e+00]]\n"
     ]
    }
   ],
   "source": [
    "# load input/output data\n",
    "trainIn = load_npz(\"./data/energy.input.\"+TYPE+\".npz\").toarray()\n",
    "trainOut = numpy.load(\"./data/energy.output.npy\")\n",
    "trainIn = trainIn.astype(dtype=numpy.float64, casting='safe')\n",
    "\n",
    "\n",
    "import numpy as np\n",
    "def zscore(X): # z-score uses to normalise the data. Hommeeeewoooorrrkk\n",
    "    \n",
    "    # get the shape of the data matrix\n",
    "    [nX,mX] = X.shape\n",
    "    \n",
    "    # compute the mean of every column X\n",
    "    XMean = np.mean(X, axis=0)\n",
    "    \n",
    "    # compute standard deviation of each column\n",
    "    XStd = np.std(X,axis=0,ddof=1)\n",
    "    \n",
    "    # subtract the mean from each column\n",
    "    zX = X - np.kron(np.ones((nX,1)),XMean) # Z = [X - mX]\n",
    "    \n",
    "    # divide by the stdv\n",
    "    XStd [XStd ==0] = 1\n",
    "    Zscore = np.divide(zX,XStd)\n",
    "    \n",
    "    \n",
    "    return Zscore\n",
    "\n",
    "trainIn= zscore(trainIn)\n",
    "\n",
    "\n",
    "\n",
    "def PCA(X):\n",
    "    \n",
    "    # computes the covariance of X   Hommeeeewoooorrrkk\n",
    "    # numpy covariance function assumes different ordering, so we transpose X\n",
    "    XCov = np.cov(X.T)\n",
    "    \n",
    "    # solves the eigenproblem and stores eigvals (give the variance) in D and eigvecs in V\n",
    "    D, V = np.linalg.eig(XCov)\n",
    "    \n",
    "    # perform the linear transformation - matrix-matrix multiplication\n",
    "    Yn = np.dot(X,V)\n",
    "\n",
    "    # return the eigenvector matrix V, the transformed data Yn, and the eigenvalues D\n",
    "    return V,Yn,D\n",
    "\n",
    "\n",
    "V, X, D= PCA(trainIn)\n",
    "print(X.shape)\n",
    "trainIn= X[:,0:10]\n",
    "\n",
    "# decide how many samples to take from the database\n",
    "samples  = min(trainIn.shape[0], 9000)\n",
    "vsamples = min(trainIn.shape[0]-samples,1000)\n",
    "print(\"training samples:   \"+str(samples))\n",
    "print(\"validation samples: \"+str(vsamples))\n",
    "print(\"number of features: {}\".format(trainIn.shape[1]))\n",
    "\n",
    "# split between training and validation\n",
    "validIn = trainIn[samples:samples+vsamples]\n",
    "validOut = trainOut[samples:samples+vsamples]\n",
    "\n",
    "trainIn  = trainIn[0:samples]\n",
    "trainOut = trainOut[0:samples]\n",
    "\n",
    "# shift and scale the inputs\n",
    "train_mean = numpy.mean(trainIn, axis=0)\n",
    "train_std = numpy.std(trainIn, axis=0)\n",
    "train_std[train_std==0] = 1\n",
    "for a in range(trainIn.shape[1]):\n",
    "    trainIn[:,a] -= train_mean[a]\n",
    "\n",
    "for a in range(trainIn.shape[1]):\n",
    "    trainIn[:,a] /= train_std[a]\n",
    "# also for validation set\n",
    "for a in range(validIn.shape[1]):\n",
    "    validIn[:,a] -= train_mean[a]\n",
    "for a in range(validIn.shape[1]):\n",
    "    validIn[:,a] /= train_std[a]\n",
    "    \n",
    "\n",
    "# show the first few descriptors\n",
    "print(\"\\nDescriptors for the first 5 molecules:\")\n",
    "print(trainIn[0:5])\n"
   ]
  },
  {
   "cell_type": "markdown",
   "metadata": {},
   "source": [
    "Next we setup a multilayer perceptron of suitable size. Out package of choice is scikit-learn, but more efficient ones are available.<br>\n",
    "Check the scikit-learn <a href=\"http://scikit-learn.org/stable/modules/generated/sklearn.neural_network.MLPRegressor.html\">documentation</a> for a list of parameters."
   ]
  },
  {
   "cell_type": "code",
   "execution_count": 65,
   "metadata": {},
   "outputs": [],
   "source": [
    "# setup the neural network\n",
    "nn = MLPRegressor(hidden_layer_sizes=(40,20,5),  activation='relu', solver='lbfgs', alpha=0.01, \n",
    "                  learning_rate='adaptive')"
   ]
  },
  {
   "cell_type": "markdown",
   "metadata": {},
   "source": [
    "## Training\n",
    "Now comes the tough part! The idea of training is to evaluate the ANN with the training inputs and measure its error (since we know the correct outputs). It is then possible to compute the derivative (gradient) of the error w.r.t. each parameter (connections and biases). By shifting the parameters in the opposite direction of the gradient, we obtain a better set of parameters, that should give smaller error.\n",
    "This procedure can be repeated until the error is minimised.\n",
    "\n",
    "\n",
    "It may take a while..."
   ]
  },
  {
   "cell_type": "code",
   "execution_count": 66,
   "metadata": {},
   "outputs": [],
   "source": [
    "# use this to change some parameters during training if the NN gets stuck in a bad spot\n",
    "nn.set_params(solver='lbfgs')\n",
    "\n",
    "nn.fit(trainIn, trainOut);"
   ]
  },
  {
   "cell_type": "markdown",
   "metadata": {},
   "source": [
    "Check the ANN quality with a regression plot, showing the mismatch between the exact and NN predicted outputs for the validation set."
   ]
  },
  {
   "cell_type": "code",
   "execution_count": 67,
   "metadata": {},
   "outputs": [
    {
     "name": "stdout",
     "output_type": "stream",
     "text": [
      "Mean Abs Error (training)  :  11.39524432241515\n",
      "Mean Abs Error (validation):  11.794137907230112\n"
     ]
    },
    {
     "data": {
      "image/png": "[encoded data removed]",
      "text/plain": [
       "<Figure size 432x288 with 1 Axes>"
      ]
     },
     "metadata": {
      "needs_background": "light"
     },
     "output_type": "display_data"
    },
    {
     "data": {
      "image/png": "[encoded data removed]",
      "text/plain": [
       "<Figure size 432x288 with 1 Axes>"
      ]
     },
     "metadata": {
      "needs_background": "light"
     },
     "output_type": "display_data"
    }
   ],
   "source": [
    "# evaluate the training and validation error\n",
    "trainMLOut = nn.predict(trainIn)\n",
    "validMLOut = nn.predict(validIn)\n",
    "\n",
    "print (\"Mean Abs Error (training)  : \", (numpy.abs(trainMLOut-trainOut)).mean())\n",
    "print (\"Mean Abs Error (validation): \", (numpy.abs(validMLOut-validOut)).mean())\n",
    "\n",
    "plt.plot(validOut,validMLOut,'o')\n",
    "plt.plot([min(validOut),max(validOut)],[min(validOut),max(validOut)]) # perfect fit line\n",
    "plt.xlabel('correct output')\n",
    "plt.ylabel('NN output')\n",
    "plt.show()\n",
    "\n",
    "# error histogram\n",
    "plt.hist(validMLOut-validOut,50)\n",
    "plt.xlabel(\"Error\")\n",
    "plt.ylabel(\"Occurrences\")\n",
    "plt.show()"
   ]
  },
  {
   "cell_type": "markdown",
   "metadata": {},
   "source": [
    "# Exercises"
   ]
  },
  {
   "cell_type": "markdown",
   "metadata": {},
   "source": [
    "### 1. Compare descriptors\n",
    "Keeping the size of the NN constant, test the accuracy of different descriptors with the same NN size, and find the best one for these systems."
   ]
  },
  {
   "cell_type": "code",
   "execution_count": null,
   "metadata": {},
   "outputs": [],
   "source": [
    "# DIY code here..."
   ]
  },
  {
   "cell_type": "markdown",
   "metadata": {},
   "source": [
    "### 2. Combine with Principal Component Analysis - Advanced\n",
    "Reduce the descriptor size with PCA (check the PCA.ipynb notebook) and train again. Can you get similar accuracy with much smaller networks?"
   ]
  },
  {
   "cell_type": "code",
   "execution_count": null,
   "metadata": {},
   "outputs": [],
   "source": []
  }
 ],
 "metadata": {
  "anaconda-cloud": {},
  "kernelspec": {
   "display_name": "Python 3",
   "language": "python",
   "name": "python3"
  },
  "language_info": {
   "codemirror_mode": {
    "name": "ipython",
    "version": 3
   },
   "file_extension": ".py",
   "mimetype": "text/x-python",
   "name": "python",
   "nbconvert_exporter": "python",
   "pygments_lexer": "ipython3",
   "version": "3.6.8"
  }
 },
 "nbformat": 4,
 "nbformat_minor": 2
}
